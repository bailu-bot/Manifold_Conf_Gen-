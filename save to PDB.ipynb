{
 "cells": [
  {
   "cell_type": "code",
   "execution_count": null,
   "id": "0824f348",
   "metadata": {},
   "outputs": [],
   "source": [
    "from rdkit import Chem\n",
    "import pickle\n",
    "\n",
    "# 加载含多个 conformer 的 mol\n",
    "file_path = 'rdmol/CC[C@H]1OCC[C@H]1CO/mol_view_CC[C@H]1OCC[C@H]1CO.pkl'\n",
    "with open(file_path, 'rb') as f:\n",
    "    mol = pickle.load(f)\n",
    "pdb_block = Chem.MolToPDBBlock(mol)\n",
    "output_pdb_path = 'PDB/output_structure.pdb'\n",
    "Chem.MolToPDBFile(mol, output_pdb_path)\n",
    "\n",
    "print(f\"PDB saved to : {output_pdb_path}\")"
   ]
  }
 ],
 "metadata": {
  "language_info": {
   "name": "python"
  }
 },
 "nbformat": 4,
 "nbformat_minor": 5
}
