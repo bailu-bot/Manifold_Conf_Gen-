{
 "cells": [
  {
   "cell_type": "code",
   "execution_count": null,
   "id": "3b055bc3",
   "metadata": {},
   "outputs": [],
   "source": [
    "from torch_geometric.data import Data\n",
    "import pickle\n",
    "import torch\n",
    "import json\n",
    "pkl_path = \"GeoDiff/data/GEOM/QM9/train_data_40k.pkl\"          # ← change to your path\n",
    "\n",
    "\n",
    "with open(pkl_path, 'rb') as f:\n",
    "    raw_data = pickle.load(f)  # \n",
    "print(type(raw_data))\n",
    "print(type(raw_data[0]))\n",
    "data_list=[]\n",
    "for i in range(0,5000):                   #only convert 5K data for test\n",
    "    data_dict=raw_data[i].to_dict()\n",
    "    data_list.append(data_dict)\n",
    "pt_output_path = \"train_converted_data5K.pt\"\n",
    "torch.save(data_list, pt_output_path)\n",
    "print(f\" save as PyTorch .pt file：{pt_output_path}\")\n",
    "\n"
   ]
  },
  {
   "cell_type": "code",
   "execution_count": null,
   "id": "f3cd813f",
   "metadata": {},
   "outputs": [],
   "source": [
    "from torch_geometric.data import Data\n",
    "import pickle\n",
    "import torch\n",
    "import json\n",
    "pkl_path = \"GeoDiff/data/GEOM/QM9/val_data_5k.pkl\"          \n",
    "\n",
    "\n",
    "with open(pkl_path, 'rb') as f:\n",
    "    raw_data = pickle.load(f)  \n",
    "print(type(raw_data))\n",
    "print(type(raw_data[0]))\n",
    "data_list=[]\n",
    "for i in raw_data:                          #convert all raw data to PyG data\n",
    "    data_dict=i.to_dict()\n",
    "    data_list.append(data_dict)\n",
    "pt_output_path = \"val_converted_data.pt\"\n",
    "torch.save(data_list, pt_output_path)\n",
    "print(f\"✅ 已保存为 PyTorch .pt 文件：{pt_output_path}\")"
   ]
  }
 ],
 "metadata": {
  "language_info": {
   "name": "python"
  }
 },
 "nbformat": 4,
 "nbformat_minor": 5
}
